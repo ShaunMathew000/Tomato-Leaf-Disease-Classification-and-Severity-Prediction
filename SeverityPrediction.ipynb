{
 "cells": [
  {
   "cell_type": "code",
   "execution_count": null,
   "metadata": {
    "vscode": {
     "languageId": "plaintext"
    }
   },
   "outputs": [],
   "source": [
    "from tkinter import filedialog\n",
    "\n",
    "import cv2\n",
    "import sys\n",
    "import tkinter\n",
    "\n"
   ]
  },
  {
   "cell_type": "code",
   "execution_count": null,
   "metadata": {
    "vscode": {
     "languageId": "plaintext"
    }
   },
   "outputs": [],
   "source": [
    "def ProcessImage(self):\n",
    "    OriginalImage = cv2.imread(filename, 1)\n",
    "    cv2.imshow(\"Original Image\", OriginalImage)\n",
    "    b = OriginalImage[:, :, 0]\n",
    "    g = OriginalImage[:, :, 1]\n",
    "    r = OriginalImage[:, :, 2]\n",
    "    Disease = r - g\n",
    "    global Alpha\n",
    "    Alpha = b\n",
    "    GetAlpha(OriginalImage)\n",
    "    ProcessingFactor = S.get()\n",
    "    for i in range(0, OriginalImage.shape[0]):\n",
    "        for j in range(0, OriginalImage.shape[1]):\n",
    "            if int(g[i, j]) > ProcessingFactor:\n",
    "                Disease[i, j] = 255\n",
    "    cv2.imshow(\"Disease Image\", Disease)\n",
    "    DisplayDiseasePercentage(Disease)\n",
    "    S.bind('<ButtonRelease-1>', ProcessImage)\n",
    "    MainWindow.mainloop()\n",
    "\n",
    "def GetAlpha(OriginalImage):\n",
    "    global Alpha\n",
    "    for i in range(0, OriginalImage.shape[0]):\n",
    "        for j in range(0, OriginalImage.shape[1]):\n",
    "            if OriginalImage[i, j, 0] > 200 and OriginalImage[i, j, 1] > 200 and OriginalImage[i, j, 2] > 200:\n",
    "                Alpha[i, j] = 255\n",
    "            else:\n",
    "                Alpha[i, j] = 0\n",
    "\n",
    "\n",
    "def GetFile():\n",
    "    if len(sys.argv) > 1:\n",
    "        return sys.argv[1]\n",
    "    else:\n",
    "        return filedialog.askopenfilename(title=\"Select Image\")\n",
    "\n",
    "\n",
    "def DisplayDiseasePercentage(Disease):\n",
    "    Count = 0\n",
    "    Res = 0\n",
    "    for i in range(0, Disease.shape[0]):\n",
    "        for j in range(0, Disease.shape[1]):\n",
    "            if Alpha[i, j] == 0:\n",
    "                Res += 1\n",
    "            if Disease[i, j] < S.get():\n",
    "                Count += 1\n",
    "    Percent = (Count / Res) * 100\n",
    "    DiseasePercent.set(\"Percentage Disease: \" + str(round(Percent, 2)) + \"%\")\n",
    "\n"
   ]
  },
  {
   "cell_type": "code",
   "execution_count": null,
   "metadata": {
    "vscode": {
     "languageId": "plaintext"
    }
   },
   "outputs": [],
   "source": [
    "Alpha = None\n",
    "MainWindow = tkinter.Tk()\n",
    "MainWindow.title(\"Plant Disease Detector\")\n",
    "\n",
    "S = tkinter.Scale(MainWindow, from_=0, to=255, length=500, orient=tkinter.HORIZONTAL,\n",
    "                  background='white', fg='black', troughcolor='white', label=\"Processing Factor\")\n",
    "S.pack()\n",
    "S.set(150)\n",
    "\n",
    "DiseasePercent = tkinter.StringVar()\n",
    "L = tkinter.Label(MainWindow, textvariable=DiseasePercent)\n",
    "L.pack()\n"
   ]
  },
  {
   "cell_type": "code",
   "execution_count": null,
   "metadata": {
    "vscode": {
     "languageId": "plaintext"
    }
   },
   "outputs": [],
   "source": [
    "filename = GetFile()\n",
    "if filename != \"\":\n",
    "    ProcessImage(None)\n",
    "else:\n",
    "    print(\"No File!\")\n",
    "    exit(0)"
   ]
  }
 ],
 "metadata": {
  "language_info": {
   "name": "python"
  }
 },
 "nbformat": 4,
 "nbformat_minor": 2
}
